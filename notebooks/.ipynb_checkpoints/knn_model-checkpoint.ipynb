{
 "cells": [
  {
   "cell_type": "markdown",
   "metadata": {},
   "source": [
    "# K Neighbors Model on Fatal Encounter Data\n",
    "This notebook creates a K neighbors model on the fatal encounters data."
   ]
  },
  {
   "cell_type": "code",
   "execution_count": 1,
   "metadata": {},
   "outputs": [],
   "source": [
    "# Import required Libraries.\n",
    "import pandas as pd\n",
    "import seaborn as sns\n",
    "from sklearn.preprocessing import StandardScaler\n",
    "from sklearn.model_selection import train_test_split\n",
    "from sklearn.neighbors import KNeighborsClassifier\n",
    "from sklearn.metrics import confusion_matrix"
   ]
  },
  {
   "cell_type": "code",
   "execution_count": 2,
   "metadata": {},
   "outputs": [],
   "source": [
    "# Read in the data\n",
    "fatal = pd.read_csv('./fatal_encounters.csv')"
   ]
  },
  {
   "cell_type": "code",
   "execution_count": 3,
   "metadata": {},
   "outputs": [],
   "source": [
    "# Collect all of the features we will use into lists.\n",
    "my_catagorical = ['Gender', 'State', 'Cause of death']\n",
    "my_numeric = ['Age', 'Latitude', 'Longitude']\n",
    "my_target = ['Race']"
   ]
  },
  {
   "cell_type": "code",
   "execution_count": 4,
   "metadata": {},
   "outputs": [
    {
     "data": {
      "text/plain": [
       "(29275, 7)"
      ]
     },
     "execution_count": 4,
     "metadata": {},
     "output_type": "execute_result"
    }
   ],
   "source": [
    "# Create the X matrix with only the features we need. The target is included for the cleaning.\n",
    "X = fatal[my_catagorical+my_numeric+my_target]\n",
    "X.shape"
   ]
  },
  {
   "cell_type": "code",
   "execution_count": 5,
   "metadata": {},
   "outputs": [
    {
     "data": {
      "text/plain": [
       "(28195, 7)"
      ]
     },
     "execution_count": 5,
     "metadata": {},
     "output_type": "execute_result"
    }
   ],
   "source": [
    "# Drop nulls and check size. We want to know how much we are discarding.\n",
    "X = X.dropna()\n",
    "X.shape"
   ]
  },
  {
   "cell_type": "code",
   "execution_count": 6,
   "metadata": {},
   "outputs": [],
   "source": [
    "# Latitude is an object and needs to be converted to numeric.\n",
    "X['Latitude'] = [a.replace(',','').strip() for a in X['Latitude']]\n",
    "X['Latitude'] = X['Latitude'].astype(float)"
   ]
  },
  {
   "cell_type": "code",
   "execution_count": 7,
   "metadata": {},
   "outputs": [],
   "source": [
    "# Age is an object and needs to be converted to numeric. Some age ranges will be assigned as the mean.\n",
    "X['Age'] = [a.replace('.','') for a in X['Age']]\n",
    "X.replace(to_replace='18-25', value=22.5, inplace=True)\n",
    "X.replace(to_replace='40-50', value=45, inplace=True)\n",
    "X['Age'] = X['Age'].astype(float)"
   ]
  },
  {
   "cell_type": "code",
   "execution_count": 8,
   "metadata": {},
   "outputs": [
    {
     "name": "stdout",
     "output_type": "stream",
     "text": [
      "<class 'pandas.core.frame.DataFrame'>\n",
      "Int64Index: 28195 entries, 0 to 29269\n",
      "Data columns (total 7 columns):\n",
      " #   Column          Non-Null Count  Dtype  \n",
      "---  ------          --------------  -----  \n",
      " 0   Gender          28195 non-null  object \n",
      " 1   State           28195 non-null  object \n",
      " 2   Cause of death  28195 non-null  object \n",
      " 3   Age             28195 non-null  float64\n",
      " 4   Latitude        28195 non-null  float64\n",
      " 5   Longitude       28195 non-null  float64\n",
      " 6   Race            28195 non-null  object \n",
      "dtypes: float64(3), object(4)\n",
      "memory usage: 1.7+ MB\n"
     ]
    }
   ],
   "source": [
    "# Verify all the data is cleaned.\n",
    "X.info()"
   ]
  },
  {
   "cell_type": "code",
   "execution_count": 9,
   "metadata": {},
   "outputs": [],
   "source": [
    "# Create the target variable and One-Hot encode the catagorical features\n",
    "y = X['Race']\n",
    "\n",
    "X.drop(columns='Race', inplace=True)\n",
    "Xd = pd.get_dummies(data=X, columns=my_catagorical, drop_first=True)"
   ]
  },
  {
   "cell_type": "code",
   "execution_count": 10,
   "metadata": {},
   "outputs": [
    {
     "data": {
      "text/plain": [
       "Index(['Age', 'Latitude', 'Longitude', 'Gender_Male', 'Gender_Transgender',\n",
       "       'State_AL', 'State_AR', 'State_AZ', 'State_CA', 'State_CO', 'State_CT',\n",
       "       'State_DC', 'State_DE', 'State_FL', 'State_GA', 'State_HI', 'State_IA',\n",
       "       'State_ID', 'State_IL', 'State_IN', 'State_KS', 'State_KY', 'State_LA',\n",
       "       'State_MA', 'State_MD', 'State_ME', 'State_MI', 'State_MN', 'State_MO',\n",
       "       'State_MS', 'State_MT', 'State_NC', 'State_ND', 'State_NE', 'State_NH',\n",
       "       'State_NJ', 'State_NM', 'State_NV', 'State_NY', 'State_OH', 'State_OK',\n",
       "       'State_OR', 'State_PA', 'State_RI', 'State_SC', 'State_SD', 'State_TN',\n",
       "       'State_TX', 'State_UT', 'State_VA', 'State_VT', 'State_WA', 'State_WI',\n",
       "       'State_WV', 'State_WY',\n",
       "       'Cause of death_Beaten/Bludgeoned with instrument',\n",
       "       'Cause of death_Burned/Smoke inhalation',\n",
       "       'Cause of death_Chemical agent/Pepper spray', 'Cause of death_Drowned',\n",
       "       'Cause of death_Drug overdose', 'Cause of death_Fell from a height',\n",
       "       'Cause of death_Gunshot', 'Cause of death_Medical emergency',\n",
       "       'Cause of death_Other', 'Cause of death_Pursuit',\n",
       "       'Cause of death_Stabbed', 'Cause of death_Tasered',\n",
       "       'Cause of death_Undetermined', 'Cause of death_Vehicle'],\n",
       "      dtype='object')"
      ]
     },
     "execution_count": 10,
     "metadata": {},
     "output_type": "execute_result"
    }
   ],
   "source": [
    "# View all of the features to verify \n",
    "Xd.columns"
   ]
  },
  {
   "cell_type": "code",
   "execution_count": 11,
   "metadata": {},
   "outputs": [],
   "source": [
    "# Split the data into a training set and a testing set.\n",
    "X_train, X_test, y_train, y_test = train_test_split(Xd, y, train_size=0.8, random_state=1, stratify=y)"
   ]
  },
  {
   "cell_type": "code",
   "execution_count": 12,
   "metadata": {},
   "outputs": [],
   "source": [
    "# Scale the data based on only the training data. Then scale the testing set in the same wway.\n",
    "ss = StandardScaler()\n",
    "Z_train = ss.fit_transform(X_train)\n",
    "Z_test = ss.transform(X_test)"
   ]
  },
  {
   "cell_type": "markdown",
   "metadata": {},
   "source": [
    "## Create Models with different N Neighbors Values"
   ]
  },
  {
   "cell_type": "code",
   "execution_count": 13,
   "metadata": {},
   "outputs": [],
   "source": [
    "# Model 9 Neighbors\n",
    "knn9_model = KNeighborsClassifier(n_neighbors = 9)\n",
    "knn9_model.fit(Z_train,y_train)\n",
    "\n",
    "knn9_train_score = knn9_model.score(Z_train,y_train)\n",
    "knn9_test_score = knn9_model.score(Z_test,y_test)"
   ]
  },
  {
   "cell_type": "code",
   "execution_count": 14,
   "metadata": {},
   "outputs": [],
   "source": [
    "# Model 15 Neighbors\n",
    "knn15_model = KNeighborsClassifier(n_neighbors = 15)\n",
    "knn15_model.fit(Z_train,y_train)\n",
    "\n",
    "knn15_train_score = knn15_model.score(Z_train,y_train)\n",
    "knn15_test_score = knn15_model.score(Z_test,y_test)"
   ]
  },
  {
   "cell_type": "code",
   "execution_count": 15,
   "metadata": {},
   "outputs": [],
   "source": [
    "# Model 25 Neighbors\n",
    "knn25_model = KNeighborsClassifier(n_neighbors = 25)\n",
    "knn25_model.fit(Z_train,y_train)\n",
    "\n",
    "knn25_train_score = knn25_model.score(Z_train,y_train)\n",
    "knn25_test_score = knn25_model.score(Z_test,y_test)"
   ]
  },
  {
   "cell_type": "code",
   "execution_count": 16,
   "metadata": {},
   "outputs": [],
   "source": [
    "# Model 51 Neighbors\n",
    "knn51_model = KNeighborsClassifier(n_neighbors = 51)\n",
    "knn51_model.fit(Z_train,y_train)\n",
    "\n",
    "knn51_train_score = knn51_model.score(Z_train,y_train)\n",
    "knn51_test_score = knn51_model.score(Z_test,y_test)"
   ]
  },
  {
   "cell_type": "code",
   "execution_count": 17,
   "metadata": {},
   "outputs": [],
   "source": [
    "# Model 101 Neighbors\n",
    "knn101_model = KNeighborsClassifier(n_neighbors = 101)\n",
    "knn101_model.fit(Z_train,y_train)\n",
    "\n",
    "knn101_train_score = knn101_model.score(Z_train,y_train)\n",
    "knn101_test_score = knn101_model.score(Z_test,y_test)"
   ]
  },
  {
   "cell_type": "code",
   "execution_count": 32,
   "metadata": {},
   "outputs": [
    {
     "name": "stdout",
     "output_type": "stream",
     "text": [
      "Training Score, n=9: 0.5330289058343678\n",
      "Testing Score,  n=9: 0.418336584500798\n",
      "\n",
      "Training Score, n=15: 0.5057634332328427\n",
      "Testing Score,  n=15: 0.42560737719453806\n",
      "\n",
      "Training Score, n=25: 0.4879854584146125\n",
      "Testing Score,  n=25: 0.4339421883312644\n",
      "\n",
      "Training Score, n=51: 0.46772477389608086\n",
      "Testing Score,  n=51: 0.4397942897676893\n",
      "\n",
      "Training Score, n=101: 0.45464621386770704\n",
      "Testing Score,  n=101: 0.43713424366022346\n"
     ]
    }
   ],
   "source": [
    "# Output all the training and testing scores\n",
    "print(f'Training Score, n=9: {knn9_train_score}')\n",
    "print(f'Testing Score,  n=9: {knn9_test_score}')\n",
    "print('')\n",
    "print(f'Training Score, n=15: {knn15_train_score}')\n",
    "print(f'Testing Score,  n=15: {knn15_test_score}')\n",
    "print('')\n",
    "print(f'Training Score, n=25: {knn25_train_score}')\n",
    "print(f'Testing Score,  n=25: {knn25_test_score}')\n",
    "print('')\n",
    "print(f'Training Score, n=51: {knn51_train_score}')\n",
    "print(f'Testing Score,  n=51: {knn51_test_score}')\n",
    "print('')\n",
    "print(f'Training Score, n=101: {knn101_train_score}')\n",
    "print(f'Testing Score,  n=101: {knn101_test_score}')"
   ]
  },
  {
   "cell_type": "code",
   "execution_count": 19,
   "metadata": {},
   "outputs": [
    {
     "data": {
      "text/plain": [
       "European-American/White    0.346586\n",
       "Race unspecified           0.261465\n",
       "African-American/Black     0.228799\n",
       "Hispanic/Latino            0.135024\n",
       "Asian/Pacific Islander     0.015712\n",
       "Native American/Alaskan    0.010640\n",
       "Middle Eastern             0.001773\n",
       "Name: Race, dtype: float64"
      ]
     },
     "execution_count": 19,
     "metadata": {},
     "output_type": "execute_result"
    }
   ],
   "source": [
    "# Find the distribution of race for the baseline\n",
    "y.value_counts(normalize=True)"
   ]
  },
  {
   "cell_type": "code",
   "execution_count": 74,
   "metadata": {},
   "outputs": [],
   "source": [
    "# Calculate predictions on the testing set\n",
    "predictions = knn51_model.predict(Z_test)"
   ]
  },
  {
   "cell_type": "code",
   "execution_count": 63,
   "metadata": {},
   "outputs": [],
   "source": [
    "# Create a data frame with the confusion matrix for graphing\n",
    "cm_labels = y.unique().tolist()\n",
    "cm_df = pd.DataFrame(data=confusion_matrix(y_test,predictions,labels=cm_labels), index=cm_labels, columns=cm_labels)"
   ]
  },
  {
   "cell_type": "code",
   "execution_count": 73,
   "metadata": {},
   "outputs": [
    {
     "data": {
      "image/png": "[encoded data removed]",
      "text/plain": [
       "<Figure size 720x576 with 2 Axes>"
      ]
     },
     "metadata": {
      "needs_background": "light"
     },
     "output_type": "display_data"
    }
   ],
   "source": [
    "# Plot the confusion Matrix\n",
    "plt.figure(figsize=(10,8))\n",
    "\n",
    "sns.heatmap(cm_df, annot=True, fmt='d', cmap='Blues')\n",
    "plt.ylabel('True', size=20)\n",
    "plt.xlabel('Predicted', size=20)\n",
    "plt.title('K_Neighbors Confusion Matrix', size=26)\n",
    "\n",
    "plt.savefig(\"./confusion_matrix.png\", bbox_inches='tight')"
   ]
  },
  {
   "cell_type": "markdown",
   "metadata": {},
   "source": [
    "This confusion matrix shows the model is very poor at predicting Native American/Alaskan, Asian/Pacific Islander and Middle Eastern. It most often classifies those individuals as European-American/White. The Race Unspecified catagory was the most difficult to predict, which seems reasonable. Unspecified individuals might actually be correctly catagorized and we wouldn't actually know."
   ]
  },
  {
   "cell_type": "markdown",
   "metadata": {},
   "source": [
    "## Create A Figure"
   ]
  },
  {
   "cell_type": "code",
   "execution_count": 96,
   "metadata": {},
   "outputs": [],
   "source": [
    "import matplotlib.pyplot as plt"
   ]
  },
  {
   "cell_type": "code",
   "execution_count": 124,
   "metadata": {},
   "outputs": [],
   "source": [
    "my_states = ['CA', 'IL', 'NY', 'FL', 'LA', 'TX', 'MD']"
   ]
  },
  {
   "cell_type": "code",
   "execution_count": 125,
   "metadata": {},
   "outputs": [],
   "source": [
    "race_color = ['blue','red','purple','gray','green','orange','black']"
   ]
  },
  {
   "cell_type": "code",
   "execution_count": 126,
   "metadata": {},
   "outputs": [],
   "source": [
    "# This gets me the data I want, but it is multiIndexed and I need to get the data.\n",
    "death_counts = fatal.groupby(by='Race')['State'].value_counts()"
   ]
  },
  {
   "cell_type": "code",
   "execution_count": 127,
   "metadata": {},
   "outputs": [],
   "source": [
    "# Begin removing the multiIndex\n",
    "dc = pd.DataFrame(death_counts).unstack().fillna(0).copy()"
   ]
  },
  {
   "cell_type": "code",
   "execution_count": 128,
   "metadata": {},
   "outputs": [],
   "source": [
    "dc = dc.droplevel(level=0, axis=1).copy()"
   ]
  },
  {
   "cell_type": "code",
   "execution_count": 129,
   "metadata": {},
   "outputs": [],
   "source": [
    "# Almost at a clean Data Frame\n",
    "dc_plot = dc[my_states].copy()"
   ]
  },
  {
   "cell_type": "code",
   "execution_count": 130,
   "metadata": {},
   "outputs": [
    {
     "data": {
      "text/plain": [
       "[14.0, 3.0, 1.0, 5.0, 1.0, 10.0, 1.0]"
      ]
     },
     "execution_count": 130,
     "metadata": {},
     "output_type": "execute_result"
    }
   ],
   "source": [
    "# There is probably another way to get this data into a list. But this is the way I found.\n",
    "dc_plot[dc_plot.index=='Middle Eastern'].to_numpy().tolist()[0]"
   ]
  },
  {
   "cell_type": "code",
   "execution_count": 131,
   "metadata": {},
   "outputs": [
    {
     "data": {
      "text/plain": [
       "['African-American/Black',\n",
       " 'Asian/Pacific Islander',\n",
       " 'European-American/White',\n",
       " 'Hispanic/Latino',\n",
       " 'Middle Eastern',\n",
       " 'Native American/Alaskan',\n",
       " 'Race unspecified']"
      ]
     },
     "execution_count": 131,
     "metadata": {},
     "output_type": "execute_result"
    }
   ],
   "source": [
    "my_races = list(dc_plot.index)\n",
    "my_races"
   ]
  },
  {
   "cell_type": "code",
   "execution_count": 139,
   "metadata": {},
   "outputs": [
    {
     "data": {
      "image/png": "[encoded data removed]",
      "text/plain": [
       "<Figure size 1584x576 with 1 Axes>"
      ]
     },
     "metadata": {
      "needs_background": "light"
     },
     "output_type": "display_data"
    }
   ],
   "source": [
    "# Graph style shamelessly stolen from:\n",
    "# https://python-graph-gallery.com/11-grouped-barplot/\n",
    "\n",
    "# set width of bar\n",
    "barWidth = 0.1\n",
    " \n",
    "# Set position of bar on X axis\n",
    "bar_pos = []\n",
    "for i in range(len(my_states)):\n",
    "    this_bar = [x + barWidth*i for x in range(len(my_states))]\n",
    "    bar_pos.append(this_bar)\n",
    "\n",
    "# Make the plot\n",
    "plt.figure(figsize=(22,8))\n",
    "for i, race in enumerate(my_races):\n",
    "    plt.bar(bar_pos[i], dc_plot[dc_plot.index==race].to_numpy().tolist()[0], color=race_color[i], width=barWidth, edgecolor='white', label=race)\n",
    "\n",
    "# Add xticks labels and title\n",
    "plt.title('Fatal Encounters by State and Race', size=30)\n",
    "plt.ylabel('Fatal Encounters', size=20)\n",
    "plt.xticks([r + barWidth for r in range(len(my_states))], my_states, size=26)\n",
    "\n",
    "\n",
    " \n",
    "# Create legend & Show graphic\n",
    "plt.legend()\n",
    "\n",
    "plt.savefig(\"./death_by_state.png\", bbox_inches='tight')\n",
    "plt.show()"
   ]
  },
  {
   "cell_type": "code",
   "execution_count": null,
   "metadata": {},
   "outputs": [],
   "source": []
  }
 ],
 "metadata": {
  "kernelspec": {
   "display_name": "Python 3",
   "language": "python",
   "name": "python3"
  },
  "language_info": {
   "codemirror_mode": {
    "name": "ipython",
    "version": 3
   },
   "file_extension": ".py",
   "mimetype": "text/x-python",
   "name": "python",
   "nbconvert_exporter": "python",
   "pygments_lexer": "ipython3",
   "version": "3.8.3"
  }
 },
 "nbformat": 4,
 "nbformat_minor": 4
}

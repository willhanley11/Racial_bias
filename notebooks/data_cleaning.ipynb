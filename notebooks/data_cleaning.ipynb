{
 "cells": [
  {
   "cell_type": "markdown",
   "metadata": {},
   "source": [
    "# Data Cleaning"
   ]
  },
  {
   "cell_type": "code",
   "execution_count": 1,
   "metadata": {},
   "outputs": [],
   "source": [
    "import pandas as pd\n",
    "import numpy as np"
   ]
  },
  {
   "cell_type": "code",
   "execution_count": 3,
   "metadata": {},
   "outputs": [],
   "source": [
    "df = pd.read_csv('../data/fatal_encounters.csv')"
   ]
  },
  {
   "cell_type": "code",
   "execution_count": 4,
   "metadata": {},
   "outputs": [
    {
     "data": {
      "text/plain": [
       "(29275, 28)"
      ]
     },
     "execution_count": 4,
     "metadata": {},
     "output_type": "execute_result"
    }
   ],
   "source": [
    "df.shape"
   ]
  },
  {
   "cell_type": "code",
   "execution_count": 5,
   "metadata": {},
   "outputs": [
    {
     "data": {
      "text/plain": [
       "Index(['Unique ID', 'Name', 'Age', 'Gender', 'Race', 'Race with imputations',\n",
       "       'Imputation probability', 'URL of image (PLS NO HOTLINKS)',\n",
       "       'Date of injury resulting in death (month/day/year)',\n",
       "       'Location of injury (address)', 'Location of death (city)', 'State',\n",
       "       'Location of death (zip code)', 'Location of death (county)',\n",
       "       'Full Address', 'Latitude', 'Longitude', 'Agency or agencies involved',\n",
       "       'Cause of death', 'Brief description',\n",
       "       'Dispositions/Exclusions INTERNAL USE, NOT FOR ANALYSIS',\n",
       "       'Intended use of force (Developing)', 'Supporting document link',\n",
       "       'Foreknowledge of mental illness? INTERNAL USE, NOT FOR ANALYSIS',\n",
       "       'Unnamed: 24', 'Unnamed: 25', 'Unique ID formula',\n",
       "       'Unique identifier (redundant)'],\n",
       "      dtype='object')"
      ]
     },
     "execution_count": 5,
     "metadata": {},
     "output_type": "execute_result"
    }
   ],
   "source": [
    "df.columns"
   ]
  },
  {
   "cell_type": "code",
   "execution_count": 6,
   "metadata": {},
   "outputs": [],
   "source": [
    "# Drop unnamed columns\n",
    "df = df.drop(columns=['Unnamed: 24', 'Unnamed: 25', 'Unique identifier (redundant)'])"
   ]
  },
  {
   "cell_type": "code",
   "execution_count": 7,
   "metadata": {},
   "outputs": [
    {
     "data": {
      "text/plain": [
       "Gunshot                              20719\n",
       "Vehicle                               6058\n",
       "Tasered                                917\n",
       "Medical emergency                      386\n",
       "Asphyxiated/Restrained                 291\n",
       "Drowned                                183\n",
       "Drug overdose                          182\n",
       "Beaten/Bludgeoned with instrument      176\n",
       "Undetermined                           103\n",
       "Fell from a height                      77\n",
       "Other                                   58\n",
       "Stabbed                                 49\n",
       "Burned/Smoke inhalation                 37\n",
       "Chemical agent/Pepper spray             34\n",
       "Pursuit                                  2\n",
       "Name: Cause of death, dtype: int64"
      ]
     },
     "execution_count": 7,
     "metadata": {},
     "output_type": "execute_result"
    }
   ],
   "source": [
    "df['Cause of death'].value_counts()"
   ]
  },
  {
   "cell_type": "code",
   "execution_count": 7,
   "metadata": {},
   "outputs": [
    {
     "data": {
      "text/plain": [
       "Los Angeles    1235\n",
       "Cook            617\n",
       "Harris          570\n",
       "Maricopa        485\n",
       "Orange          448\n",
       "               ... \n",
       "Hoke              1\n",
       "Norman            1\n",
       "Cortland          1\n",
       "Bosque            1\n",
       "Lampasas          1\n",
       "Name: Location of death (county), Length: 1500, dtype: int64"
      ]
     },
     "execution_count": 7,
     "metadata": {},
     "output_type": "execute_result"
    }
   ],
   "source": [
    "df['Location of death (county)'].value_counts()"
   ]
  },
  {
   "cell_type": "code",
   "execution_count": 8,
   "metadata": {},
   "outputs": [],
   "source": [
    "# Keep only columns that are relevant\n",
    "df = df[['Unique ID', 'Name', 'Age', 'Gender', 'Race', 'Race with imputations',\n",
    "       'Imputation probability','Date of injury resulting in death (month/day/year)', 'Location of injury (address)', 'Location of death (city)', 'State',\n",
    "       'Location of death (zip code)', 'Location of death (county)','Agency or agencies involved',\n",
    "       'Cause of death', 'Brief description','Intended use of force (Developing)']]"
   ]
  },
  {
   "cell_type": "code",
   "execution_count": 9,
   "metadata": {},
   "outputs": [],
   "source": [
    "# Set index to the unique ID\n",
    "df.set_index('Unique ID', inplace=True)"
   ]
  },
  {
   "cell_type": "code",
   "execution_count": 10,
   "metadata": {},
   "outputs": [
    {
     "data": {
      "text/plain": [
       "European-American/White    9816\n",
       "Race unspecified           8248\n",
       "African-American/Black     6499\n",
       "Hispanic/Latino            3912\n",
       "Asian/Pacific Islander      447\n",
       "Native American/Alaskan     302\n",
       "Middle Eastern               50\n",
       "Name: Race, dtype: int64"
      ]
     },
     "execution_count": 10,
     "metadata": {},
     "output_type": "execute_result"
    }
   ],
   "source": [
    "# Examine race \n",
    "df['Race'].value_counts() "
   ]
  },
  {
   "cell_type": "code",
   "execution_count": 11,
   "metadata": {},
   "outputs": [],
   "source": [
    "# Join city and county \n",
    "df['Location of Death (City,County)'] = df['Location of death (city)']+ ', ' + df['Location of death (county)']"
   ]
  },
  {
   "cell_type": "code",
   "execution_count": 12,
   "metadata": {},
   "outputs": [],
   "source": [
    "# Drop city and county individual columns\n",
    "df.drop(columns=['Location of death (city)','Location of death (county)'], inplace=True)"
   ]
  },
  {
   "cell_type": "code",
   "execution_count": 13,
   "metadata": {},
   "outputs": [
    {
     "data": {
      "text/plain": [
       "European-American/White    13808\n",
       "African-American/Black      8018\n",
       "Hispanic/Latino             4801\n",
       "Race unspecified            1317\n",
       "Asian/Pacific Islander       538\n",
       "Native American/Alaskan      302\n",
       "Middle Eastern                50\n",
       "HIspanic/Latino                2\n",
       "Name: Race with imputations, dtype: int64"
      ]
     },
     "execution_count": 13,
     "metadata": {},
     "output_type": "execute_result"
    }
   ],
   "source": [
    "df['Race with imputations'].value_counts()"
   ]
  },
  {
   "cell_type": "code",
   "execution_count": 14,
   "metadata": {},
   "outputs": [
    {
     "data": {
      "text/plain": [
       "European-American/White    9816\n",
       "Race unspecified           8248\n",
       "African-American/Black     6499\n",
       "Hispanic/Latino            3912\n",
       "Asian/Pacific Islander      447\n",
       "Native American/Alaskan     302\n",
       "Middle Eastern               50\n",
       "Name: Race, dtype: int64"
      ]
     },
     "execution_count": 14,
     "metadata": {},
     "output_type": "execute_result"
    }
   ],
   "source": [
    "df['Race'].value_counts()"
   ]
  },
  {
   "cell_type": "code",
   "execution_count": 15,
   "metadata": {},
   "outputs": [],
   "source": [
    "# gender binzarized\n",
    "df['Gender'] = df['Gender'].map({'Male': 1, 'Female': 0})"
   ]
  },
  {
   "cell_type": "code",
   "execution_count": 16,
   "metadata": {},
   "outputs": [],
   "source": [
    "# drop rows where cause of death is vehicle pursuit\n",
    "df = df[df['Cause of death'] != 'Vehicle']"
   ]
  },
  {
   "cell_type": "code",
   "execution_count": 17,
   "metadata": {},
   "outputs": [],
   "source": [
    "# set date of injury that resulted in death to date time \n",
    "df['Date of injury resulting in death (month/day/year)'] = pd.to_datetime(df['Date of injury resulting in death (month/day/year)'])"
   ]
  },
  {
   "cell_type": "code",
   "execution_count": 18,
   "metadata": {},
   "outputs": [],
   "source": [
    "# drop if the death was a suicide \n",
    "df = df[df['Intended use of force (Developing)'] != 'Suicide']"
   ]
  },
  {
   "cell_type": "code",
   "execution_count": 19,
   "metadata": {},
   "outputs": [],
   "source": [
    "# drop rows where race isnt specified and race with imputations isnt specified \n",
    "df = df[(df['Race'] != 'Race unspecified') & (df['Race with imputations'] != 'Race unspecified')]"
   ]
  },
  {
   "cell_type": "code",
   "execution_count": 20,
   "metadata": {},
   "outputs": [],
   "source": [
    "# Drop imputation probability\n",
    "df = df.drop(columns=['Imputation probability'])"
   ]
  },
  {
   "cell_type": "code",
   "execution_count": 21,
   "metadata": {},
   "outputs": [],
   "source": [
    "# Drop race with imputations as it is the same as race.\n",
    "df = df.drop(columns=['Race with imputations'])"
   ]
  },
  {
   "cell_type": "code",
   "execution_count": 22,
   "metadata": {},
   "outputs": [],
   "source": [
    "# Drop address of injury \n",
    "df = df.drop(columns=['Location of injury (address)'])"
   ]
  },
  {
   "cell_type": "code",
   "execution_count": 23,
   "metadata": {},
   "outputs": [],
   "source": [
    "df = df.drop(columns=['Agency or agencies involved'])"
   ]
  },
  {
   "cell_type": "code",
   "execution_count": 24,
   "metadata": {},
   "outputs": [],
   "source": [
    "# Drop zip code (we have city and state)\n",
    "df = df.drop(columns=['Location of death (zip code)'])"
   ]
  },
  {
   "cell_type": "code",
   "execution_count": 25,
   "metadata": {},
   "outputs": [],
   "source": [
    "# Fill nulls in Gender with male (over 95% of data male)\n",
    "df['Gender'] = df['Gender'].fillna(1)"
   ]
  },
  {
   "cell_type": "code",
   "execution_count": null,
   "metadata": {},
   "outputs": [],
   "source": []
  },
  {
   "cell_type": "code",
   "execution_count": 26,
   "metadata": {},
   "outputs": [],
   "source": [
    "# Fill age with mode age \n",
    "df['Age'] = df['Age'].fillna(25)"
   ]
  },
  {
   "cell_type": "code",
   "execution_count": 27,
   "metadata": {},
   "outputs": [
    {
     "data": {
      "text/plain": [
       "Name                                                          object\n",
       "Age                                                           object\n",
       "Gender                                                       float64\n",
       "Race                                                          object\n",
       "Date of injury resulting in death (month/day/year)    datetime64[ns]\n",
       "State                                                         object\n",
       "Cause of death                                                object\n",
       "Brief description                                             object\n",
       "Intended use of force (Developing)                            object\n",
       "Location of Death (City,County)                               object\n",
       "dtype: object"
      ]
     },
     "execution_count": 27,
     "metadata": {},
     "output_type": "execute_result"
    }
   ],
   "source": [
    "df.dtypes"
   ]
  },
  {
   "cell_type": "code",
   "execution_count": 28,
   "metadata": {
    "scrolled": true
   },
   "outputs": [],
   "source": [
    "# Drop the rest of the nulls (less than 50 total)\n",
    "df.dropna(inplace=True)"
   ]
  },
  {
   "cell_type": "code",
   "execution_count": 29,
   "metadata": {},
   "outputs": [
    {
     "data": {
      "text/plain": [
       "Deadly force              13904\n",
       "Less-than-lethal force     1300\n",
       "No                          590\n",
       "Undetermined                 37\n",
       "Pursuit                       2\n",
       "Name: Intended use of force (Developing), dtype: int64"
      ]
     },
     "execution_count": 29,
     "metadata": {},
     "output_type": "execute_result"
    }
   ],
   "source": [
    "df['Intended use of force (Developing)'].value_counts()"
   ]
  },
  {
   "cell_type": "code",
   "execution_count": 30,
   "metadata": {},
   "outputs": [
    {
     "data": {
      "text/plain": [
       "Name                                                          object\n",
       "Age                                                           object\n",
       "Gender                                                       float64\n",
       "Race                                                          object\n",
       "Date of injury resulting in death (month/day/year)    datetime64[ns]\n",
       "State                                                         object\n",
       "Cause of death                                                object\n",
       "Brief description                                             object\n",
       "Intended use of force (Developing)                            object\n",
       "Location of Death (City,County)                               object\n",
       "dtype: object"
      ]
     },
     "execution_count": 30,
     "metadata": {},
     "output_type": "execute_result"
    }
   ],
   "source": [
    "df.dtypes"
   ]
  },
  {
   "cell_type": "code",
   "execution_count": 30,
   "metadata": {},
   "outputs": [],
   "source": [
    "# Remapping Race\n",
    "df['Race'] = df['Race'].map({'European-American/White': 0, 'African-American/Black': 1, 'Hispanic/Latino':2, 'Asian/Pacific Islander':3,\n",
    "                            'Native American/Alaskan':3, 'Middle Eastern':3})"
   ]
  },
  {
   "cell_type": "code",
   "execution_count": 31,
   "metadata": {},
   "outputs": [],
   "source": [
    "# Remapping Intended use of force \n",
    "df['Intended use of force'] = df['Intended use of force (Developing)'].map({'Deadly force': 0, 'Less-than-lethal force': 1, 'No':2, 'Undetermined ':2,\n",
    "                            'Pursuit':2})"
   ]
  },
  {
   "cell_type": "code",
   "execution_count": 30,
   "metadata": {},
   "outputs": [],
   "source": [
    "# Dummify Race, State, and int\n",
    "#df = pd.get_dummies(df, columns=['Cause of death', 'State',\n",
    "                        #         'Location of Death (City,County)'])"
   ]
  },
  {
   "cell_type": "code",
   "execution_count": 32,
   "metadata": {},
   "outputs": [
    {
     "data": {
      "text/plain": [
       "Gunshot                              13993\n",
       "Tasered                                735\n",
       "Medical emergency                      289\n",
       "Asphyxiated/Restrained                 208\n",
       "Drug overdose                          153\n",
       "Beaten/Bludgeoned with instrument      140\n",
       "Drowned                                111\n",
       "Undetermined                            69\n",
       "Other                                   48\n",
       "Fell from a height                      33\n",
       "Chemical agent/Pepper spray             21\n",
       "Stabbed                                 17\n",
       "Burned/Smoke inhalation                 16\n",
       "Name: Cause of death, dtype: int64"
      ]
     },
     "execution_count": 32,
     "metadata": {},
     "output_type": "execute_result"
    }
   ],
   "source": [
    "df['Cause of death'].value_counts()"
   ]
  },
  {
   "cell_type": "code",
   "execution_count": 35,
   "metadata": {},
   "outputs": [],
   "source": [
    "df.to_csv('fatal_encounters_eda.csv', index=False)"
   ]
  }
 ],
 "metadata": {
  "kernelspec": {
   "display_name": "Python [conda env:dsi] *",
   "language": "python",
   "name": "conda-env-dsi-py"
  },
  "language_info": {
   "codemirror_mode": {
    "name": "ipython",
    "version": 3
   },
   "file_extension": ".py",
   "mimetype": "text/x-python",
   "name": "python",
   "nbconvert_exporter": "python",
   "pygments_lexer": "ipython3",
   "version": "3.8.3"
  }
 },
 "nbformat": 4,
 "nbformat_minor": 4
}
